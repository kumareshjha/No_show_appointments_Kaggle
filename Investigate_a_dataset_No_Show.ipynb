{
 "cells": [
  {
   "cell_type": "markdown",
   "metadata": {},
   "source": [
    "# Project: Investigate a Dataset (No Shows Appointments)\n",
    "\n",
    "## Table of Contents\n",
    "<ul>\n",
    "<li><a href=\"#intro\">Introduction</a></li>\n",
    "<li><a href=\"#wrangling\">Data Wrangling</a></li>\n",
    "<li><a href=\"#eda\">Exploratory Data Analysis</a></li>\n",
    "<li><a href=\"#conclusions\">Conclusions</a></li>\n",
    "</ul>"
   ]
  },
  {
   "cell_type": "markdown",
   "metadata": {},
   "source": [
    "<a id='intro'></a>\n",
    "## Introduction\n",
    "\n",
    ">This dataset collects information from 100k medical appointments in Brazil and is focused on the question of whether or not patients show up for their appointment.\n",
    "\n",
    "> I am trying to find out if various criterias have any relationship to detemine if subject will arrive or not. I am searching for relationship between variables 'Gender', 'Age', 'Neighbourhood', 'Scholarship', 'Hipertension', 'Diabetes', 'Alcoholism', 'Handcap', 'SMS_received' and subject No-Show    "
   ]
  },
  {
   "cell_type": "code",
   "execution_count": 1,
   "metadata": {},
   "outputs": [],
   "source": [
    "# Importing packages for the project\n",
    "\n",
    "import pandas as pd\n",
    "import numpy as np\n",
    "%matplotlib inline\n",
    "import matplotlib.pyplot as plt"
   ]
  },
  {
   "cell_type": "markdown",
   "metadata": {},
   "source": [
    "<a id='wrangling'></a>\n",
    "## Data Wrangling\n",
    "### General Properties"
   ]
  },
  {
   "cell_type": "code",
   "execution_count": 2,
   "metadata": {},
   "outputs": [],
   "source": [
    "# Load the data\n",
    "\n",
    "df = pd.read_csv('noshowappointments-kagglev2-may-2016.csv')"
   ]
  },
  {
   "cell_type": "code",
   "execution_count": 3,
   "metadata": {},
   "outputs": [
    {
     "data": {
      "text/html": [
       "<div>\n",
       "<style scoped>\n",
       "    .dataframe tbody tr th:only-of-type {\n",
       "        vertical-align: middle;\n",
       "    }\n",
       "\n",
       "    .dataframe tbody tr th {\n",
       "        vertical-align: top;\n",
       "    }\n",
       "\n",
       "    .dataframe thead th {\n",
       "        text-align: right;\n",
       "    }\n",
       "</style>\n",
       "<table border=\"1\" class=\"dataframe\">\n",
       "  <thead>\n",
       "    <tr style=\"text-align: right;\">\n",
       "      <th></th>\n",
       "      <th>PatientId</th>\n",
       "      <th>AppointmentID</th>\n",
       "      <th>Gender</th>\n",
       "      <th>ScheduledDay</th>\n",
       "      <th>AppointmentDay</th>\n",
       "      <th>Age</th>\n",
       "      <th>Neighbourhood</th>\n",
       "      <th>Scholarship</th>\n",
       "      <th>Hipertension</th>\n",
       "      <th>Diabetes</th>\n",
       "      <th>Alcoholism</th>\n",
       "      <th>Handcap</th>\n",
       "      <th>SMS_received</th>\n",
       "      <th>No-show</th>\n",
       "    </tr>\n",
       "  </thead>\n",
       "  <tbody>\n",
       "    <tr>\n",
       "      <th>0</th>\n",
       "      <td>2.987250e+13</td>\n",
       "      <td>5642903</td>\n",
       "      <td>F</td>\n",
       "      <td>2016-04-29T18:38:08Z</td>\n",
       "      <td>2016-04-29T00:00:00Z</td>\n",
       "      <td>62</td>\n",
       "      <td>JARDIM DA PENHA</td>\n",
       "      <td>0</td>\n",
       "      <td>1</td>\n",
       "      <td>0</td>\n",
       "      <td>0</td>\n",
       "      <td>0</td>\n",
       "      <td>0</td>\n",
       "      <td>No</td>\n",
       "    </tr>\n",
       "    <tr>\n",
       "      <th>1</th>\n",
       "      <td>5.589978e+14</td>\n",
       "      <td>5642503</td>\n",
       "      <td>M</td>\n",
       "      <td>2016-04-29T16:08:27Z</td>\n",
       "      <td>2016-04-29T00:00:00Z</td>\n",
       "      <td>56</td>\n",
       "      <td>JARDIM DA PENHA</td>\n",
       "      <td>0</td>\n",
       "      <td>0</td>\n",
       "      <td>0</td>\n",
       "      <td>0</td>\n",
       "      <td>0</td>\n",
       "      <td>0</td>\n",
       "      <td>No</td>\n",
       "    </tr>\n",
       "    <tr>\n",
       "      <th>2</th>\n",
       "      <td>4.262962e+12</td>\n",
       "      <td>5642549</td>\n",
       "      <td>F</td>\n",
       "      <td>2016-04-29T16:19:04Z</td>\n",
       "      <td>2016-04-29T00:00:00Z</td>\n",
       "      <td>62</td>\n",
       "      <td>MATA DA PRAIA</td>\n",
       "      <td>0</td>\n",
       "      <td>0</td>\n",
       "      <td>0</td>\n",
       "      <td>0</td>\n",
       "      <td>0</td>\n",
       "      <td>0</td>\n",
       "      <td>No</td>\n",
       "    </tr>\n",
       "    <tr>\n",
       "      <th>3</th>\n",
       "      <td>8.679512e+11</td>\n",
       "      <td>5642828</td>\n",
       "      <td>F</td>\n",
       "      <td>2016-04-29T17:29:31Z</td>\n",
       "      <td>2016-04-29T00:00:00Z</td>\n",
       "      <td>8</td>\n",
       "      <td>PONTAL DE CAMBURI</td>\n",
       "      <td>0</td>\n",
       "      <td>0</td>\n",
       "      <td>0</td>\n",
       "      <td>0</td>\n",
       "      <td>0</td>\n",
       "      <td>0</td>\n",
       "      <td>No</td>\n",
       "    </tr>\n",
       "    <tr>\n",
       "      <th>4</th>\n",
       "      <td>8.841186e+12</td>\n",
       "      <td>5642494</td>\n",
       "      <td>F</td>\n",
       "      <td>2016-04-29T16:07:23Z</td>\n",
       "      <td>2016-04-29T00:00:00Z</td>\n",
       "      <td>56</td>\n",
       "      <td>JARDIM DA PENHA</td>\n",
       "      <td>0</td>\n",
       "      <td>1</td>\n",
       "      <td>1</td>\n",
       "      <td>0</td>\n",
       "      <td>0</td>\n",
       "      <td>0</td>\n",
       "      <td>No</td>\n",
       "    </tr>\n",
       "  </tbody>\n",
       "</table>\n",
       "</div>"
      ],
      "text/plain": [
       "      PatientId  AppointmentID Gender          ScheduledDay  \\\n",
       "0  2.987250e+13        5642903      F  2016-04-29T18:38:08Z   \n",
       "1  5.589978e+14        5642503      M  2016-04-29T16:08:27Z   \n",
       "2  4.262962e+12        5642549      F  2016-04-29T16:19:04Z   \n",
       "3  8.679512e+11        5642828      F  2016-04-29T17:29:31Z   \n",
       "4  8.841186e+12        5642494      F  2016-04-29T16:07:23Z   \n",
       "\n",
       "         AppointmentDay  Age      Neighbourhood  Scholarship  Hipertension  \\\n",
       "0  2016-04-29T00:00:00Z   62    JARDIM DA PENHA            0             1   \n",
       "1  2016-04-29T00:00:00Z   56    JARDIM DA PENHA            0             0   \n",
       "2  2016-04-29T00:00:00Z   62      MATA DA PRAIA            0             0   \n",
       "3  2016-04-29T00:00:00Z    8  PONTAL DE CAMBURI            0             0   \n",
       "4  2016-04-29T00:00:00Z   56    JARDIM DA PENHA            0             1   \n",
       "\n",
       "   Diabetes  Alcoholism  Handcap  SMS_received No-show  \n",
       "0         0           0        0             0      No  \n",
       "1         0           0        0             0      No  \n",
       "2         0           0        0             0      No  \n",
       "3         0           0        0             0      No  \n",
       "4         1           0        0             0      No  "
      ]
     },
     "execution_count": 3,
     "metadata": {},
     "output_type": "execute_result"
    }
   ],
   "source": [
    "# Check the data\n",
    "df.head()"
   ]
  },
  {
   "cell_type": "code",
   "execution_count": 4,
   "metadata": {},
   "outputs": [
    {
     "data": {
      "text/plain": [
       "PatientId         float64\n",
       "AppointmentID       int64\n",
       "Gender             object\n",
       "ScheduledDay       object\n",
       "AppointmentDay     object\n",
       "Age                 int64\n",
       "Neighbourhood      object\n",
       "Scholarship         int64\n",
       "Hipertension        int64\n",
       "Diabetes            int64\n",
       "Alcoholism          int64\n",
       "Handcap             int64\n",
       "SMS_received        int64\n",
       "No-show            object\n",
       "dtype: object"
      ]
     },
     "execution_count": 4,
     "metadata": {},
     "output_type": "execute_result"
    }
   ],
   "source": [
    "# Check data types\n",
    "df.dtypes"
   ]
  },
  {
   "cell_type": "code",
   "execution_count": 5,
   "metadata": {},
   "outputs": [],
   "source": [
    "# PatientId is float, changing to character\n",
    "## ScheduledDay is string, changing to datetime\n",
    "### AppointmentDay is string, changing to datetime\n",
    "\n",
    "df.PatientId = df.PatientId.map(lambda x: '{:.0f}'.format(x))\n",
    "df['ScheduledDay'] = df['ScheduledDay'].astype('datetime64[ns]')\n",
    "df['AppointmentDay'] = df['AppointmentDay'].astype('datetime64[ns]')"
   ]
  },
  {
   "cell_type": "code",
   "execution_count": 6,
   "metadata": {},
   "outputs": [
    {
     "data": {
      "text/html": [
       "<div>\n",
       "<style scoped>\n",
       "    .dataframe tbody tr th:only-of-type {\n",
       "        vertical-align: middle;\n",
       "    }\n",
       "\n",
       "    .dataframe tbody tr th {\n",
       "        vertical-align: top;\n",
       "    }\n",
       "\n",
       "    .dataframe thead th {\n",
       "        text-align: right;\n",
       "    }\n",
       "</style>\n",
       "<table border=\"1\" class=\"dataframe\">\n",
       "  <thead>\n",
       "    <tr style=\"text-align: right;\">\n",
       "      <th></th>\n",
       "      <th>PatientId</th>\n",
       "      <th>AppointmentID</th>\n",
       "      <th>Gender</th>\n",
       "      <th>ScheduledDay</th>\n",
       "      <th>AppointmentDay</th>\n",
       "      <th>Age</th>\n",
       "      <th>Neighbourhood</th>\n",
       "      <th>Scholarship</th>\n",
       "      <th>Hipertension</th>\n",
       "      <th>Diabetes</th>\n",
       "      <th>Alcoholism</th>\n",
       "      <th>Handcap</th>\n",
       "      <th>SMS_received</th>\n",
       "      <th>No-show</th>\n",
       "    </tr>\n",
       "  </thead>\n",
       "  <tbody>\n",
       "    <tr>\n",
       "      <th>0</th>\n",
       "      <td>29872499824296</td>\n",
       "      <td>5642903</td>\n",
       "      <td>F</td>\n",
       "      <td>2016-04-29 18:38:08</td>\n",
       "      <td>2016-04-29</td>\n",
       "      <td>62</td>\n",
       "      <td>JARDIM DA PENHA</td>\n",
       "      <td>0</td>\n",
       "      <td>1</td>\n",
       "      <td>0</td>\n",
       "      <td>0</td>\n",
       "      <td>0</td>\n",
       "      <td>0</td>\n",
       "      <td>No</td>\n",
       "    </tr>\n",
       "    <tr>\n",
       "      <th>1</th>\n",
       "      <td>558997776694438</td>\n",
       "      <td>5642503</td>\n",
       "      <td>M</td>\n",
       "      <td>2016-04-29 16:08:27</td>\n",
       "      <td>2016-04-29</td>\n",
       "      <td>56</td>\n",
       "      <td>JARDIM DA PENHA</td>\n",
       "      <td>0</td>\n",
       "      <td>0</td>\n",
       "      <td>0</td>\n",
       "      <td>0</td>\n",
       "      <td>0</td>\n",
       "      <td>0</td>\n",
       "      <td>No</td>\n",
       "    </tr>\n",
       "    <tr>\n",
       "      <th>2</th>\n",
       "      <td>4262962299951</td>\n",
       "      <td>5642549</td>\n",
       "      <td>F</td>\n",
       "      <td>2016-04-29 16:19:04</td>\n",
       "      <td>2016-04-29</td>\n",
       "      <td>62</td>\n",
       "      <td>MATA DA PRAIA</td>\n",
       "      <td>0</td>\n",
       "      <td>0</td>\n",
       "      <td>0</td>\n",
       "      <td>0</td>\n",
       "      <td>0</td>\n",
       "      <td>0</td>\n",
       "      <td>No</td>\n",
       "    </tr>\n",
       "    <tr>\n",
       "      <th>3</th>\n",
       "      <td>867951213174</td>\n",
       "      <td>5642828</td>\n",
       "      <td>F</td>\n",
       "      <td>2016-04-29 17:29:31</td>\n",
       "      <td>2016-04-29</td>\n",
       "      <td>8</td>\n",
       "      <td>PONTAL DE CAMBURI</td>\n",
       "      <td>0</td>\n",
       "      <td>0</td>\n",
       "      <td>0</td>\n",
       "      <td>0</td>\n",
       "      <td>0</td>\n",
       "      <td>0</td>\n",
       "      <td>No</td>\n",
       "    </tr>\n",
       "    <tr>\n",
       "      <th>4</th>\n",
       "      <td>8841186448183</td>\n",
       "      <td>5642494</td>\n",
       "      <td>F</td>\n",
       "      <td>2016-04-29 16:07:23</td>\n",
       "      <td>2016-04-29</td>\n",
       "      <td>56</td>\n",
       "      <td>JARDIM DA PENHA</td>\n",
       "      <td>0</td>\n",
       "      <td>1</td>\n",
       "      <td>1</td>\n",
       "      <td>0</td>\n",
       "      <td>0</td>\n",
       "      <td>0</td>\n",
       "      <td>No</td>\n",
       "    </tr>\n",
       "  </tbody>\n",
       "</table>\n",
       "</div>"
      ],
      "text/plain": [
       "         PatientId  AppointmentID Gender        ScheduledDay AppointmentDay  \\\n",
       "0   29872499824296        5642903      F 2016-04-29 18:38:08     2016-04-29   \n",
       "1  558997776694438        5642503      M 2016-04-29 16:08:27     2016-04-29   \n",
       "2    4262962299951        5642549      F 2016-04-29 16:19:04     2016-04-29   \n",
       "3     867951213174        5642828      F 2016-04-29 17:29:31     2016-04-29   \n",
       "4    8841186448183        5642494      F 2016-04-29 16:07:23     2016-04-29   \n",
       "\n",
       "   Age      Neighbourhood  Scholarship  Hipertension  Diabetes  Alcoholism  \\\n",
       "0   62    JARDIM DA PENHA            0             1         0           0   \n",
       "1   56    JARDIM DA PENHA            0             0         0           0   \n",
       "2   62      MATA DA PRAIA            0             0         0           0   \n",
       "3    8  PONTAL DE CAMBURI            0             0         0           0   \n",
       "4   56    JARDIM DA PENHA            0             1         1           0   \n",
       "\n",
       "   Handcap  SMS_received No-show  \n",
       "0        0             0      No  \n",
       "1        0             0      No  \n",
       "2        0             0      No  \n",
       "3        0             0      No  \n",
       "4        0             0      No  "
      ]
     },
     "execution_count": 6,
     "metadata": {},
     "output_type": "execute_result"
    }
   ],
   "source": [
    "# Check the updated data\n",
    "df.head()"
   ]
  },
  {
   "cell_type": "code",
   "execution_count": 7,
   "metadata": {},
   "outputs": [
    {
     "data": {
      "text/plain": [
       "PatientId                 object\n",
       "AppointmentID              int64\n",
       "Gender                    object\n",
       "ScheduledDay      datetime64[ns]\n",
       "AppointmentDay    datetime64[ns]\n",
       "Age                        int64\n",
       "Neighbourhood             object\n",
       "Scholarship                int64\n",
       "Hipertension               int64\n",
       "Diabetes                   int64\n",
       "Alcoholism                 int64\n",
       "Handcap                    int64\n",
       "SMS_received               int64\n",
       "No-show                   object\n",
       "dtype: object"
      ]
     },
     "execution_count": 7,
     "metadata": {},
     "output_type": "execute_result"
    }
   ],
   "source": [
    "# Check data types\n",
    "df.dtypes"
   ]
  },
  {
   "cell_type": "markdown",
   "metadata": {},
   "source": [
    "### Data Cleaning: This will involve below steps:\n",
    "1) Check and remove duplicate records\n",
    "2) Check and remove Null values\n",
    "3) Rename columns to make them consistent\n",
    "4) Delete irrelevent observations"
   ]
  },
  {
   "cell_type": "code",
   "execution_count": 8,
   "metadata": {},
   "outputs": [
    {
     "data": {
      "text/plain": [
       "0"
      ]
     },
     "execution_count": 8,
     "metadata": {},
     "output_type": "execute_result"
    }
   ],
   "source": [
    "#Check and remove duplicate records\n",
    "sum(df.duplicated()) # no duplicate record exist"
   ]
  },
  {
   "cell_type": "code",
   "execution_count": 9,
   "metadata": {},
   "outputs": [
    {
     "name": "stdout",
     "output_type": "stream",
     "text": [
      "<class 'pandas.core.frame.DataFrame'>\n",
      "RangeIndex: 110527 entries, 0 to 110526\n",
      "Data columns (total 14 columns):\n",
      "PatientId         110527 non-null object\n",
      "AppointmentID     110527 non-null int64\n",
      "Gender            110527 non-null object\n",
      "ScheduledDay      110527 non-null datetime64[ns]\n",
      "AppointmentDay    110527 non-null datetime64[ns]\n",
      "Age               110527 non-null int64\n",
      "Neighbourhood     110527 non-null object\n",
      "Scholarship       110527 non-null int64\n",
      "Hipertension      110527 non-null int64\n",
      "Diabetes          110527 non-null int64\n",
      "Alcoholism        110527 non-null int64\n",
      "Handcap           110527 non-null int64\n",
      "SMS_received      110527 non-null int64\n",
      "No-show           110527 non-null object\n",
      "dtypes: datetime64[ns](2), int64(8), object(4)\n",
      "memory usage: 10.1+ MB\n"
     ]
    }
   ],
   "source": [
    "#Check and remove Null values\n",
    "df.info()  # no null values exist"
   ]
  },
  {
   "cell_type": "code",
   "execution_count": 10,
   "metadata": {},
   "outputs": [],
   "source": [
    "#Rename columns to make them consistent\n",
    "df.rename(columns=lambda x: x.strip().lower().replace(\"-\", \"_\"), inplace=True)"
   ]
  },
  {
   "cell_type": "code",
   "execution_count": 11,
   "metadata": {},
   "outputs": [
    {
     "name": "stdout",
     "output_type": "stream",
     "text": [
      "<class 'pandas.core.frame.DataFrame'>\n",
      "RangeIndex: 110527 entries, 0 to 110526\n",
      "Data columns (total 14 columns):\n",
      "patientid         110527 non-null object\n",
      "appointmentid     110527 non-null int64\n",
      "gender            110527 non-null object\n",
      "scheduledday      110527 non-null datetime64[ns]\n",
      "appointmentday    110527 non-null datetime64[ns]\n",
      "age               110527 non-null int64\n",
      "neighbourhood     110527 non-null object\n",
      "scholarship       110527 non-null int64\n",
      "hipertension      110527 non-null int64\n",
      "diabetes          110527 non-null int64\n",
      "alcoholism        110527 non-null int64\n",
      "handcap           110527 non-null int64\n",
      "sms_received      110527 non-null int64\n",
      "no_show           110527 non-null object\n",
      "dtypes: datetime64[ns](2), int64(8), object(4)\n",
      "memory usage: 10.1+ MB\n"
     ]
    }
   ],
   "source": [
    "#Check updated column names\n",
    "df.info()  #with new column names"
   ]
  },
  {
   "cell_type": "code",
   "execution_count": 12,
   "metadata": {},
   "outputs": [
    {
     "data": {
      "text/html": [
       "<div>\n",
       "<style scoped>\n",
       "    .dataframe tbody tr th:only-of-type {\n",
       "        vertical-align: middle;\n",
       "    }\n",
       "\n",
       "    .dataframe tbody tr th {\n",
       "        vertical-align: top;\n",
       "    }\n",
       "\n",
       "    .dataframe thead th {\n",
       "        text-align: right;\n",
       "    }\n",
       "</style>\n",
       "<table border=\"1\" class=\"dataframe\">\n",
       "  <thead>\n",
       "    <tr style=\"text-align: right;\">\n",
       "      <th></th>\n",
       "      <th>patientid</th>\n",
       "      <th>appointmentid</th>\n",
       "      <th>gender</th>\n",
       "      <th>scheduledday</th>\n",
       "      <th>appointmentday</th>\n",
       "      <th>age</th>\n",
       "      <th>neighbourhood</th>\n",
       "      <th>scholarship</th>\n",
       "      <th>hipertension</th>\n",
       "      <th>diabetes</th>\n",
       "      <th>alcoholism</th>\n",
       "      <th>handcap</th>\n",
       "      <th>sms_received</th>\n",
       "      <th>no_show</th>\n",
       "    </tr>\n",
       "  </thead>\n",
       "  <tbody>\n",
       "    <tr>\n",
       "      <th>99832</th>\n",
       "      <td>465943158731293</td>\n",
       "      <td>5775010</td>\n",
       "      <td>F</td>\n",
       "      <td>2016-06-06 08:58:13</td>\n",
       "      <td>2016-06-06</td>\n",
       "      <td>-1</td>\n",
       "      <td>ROMÃO</td>\n",
       "      <td>0</td>\n",
       "      <td>0</td>\n",
       "      <td>0</td>\n",
       "      <td>0</td>\n",
       "      <td>0</td>\n",
       "      <td>0</td>\n",
       "      <td>No</td>\n",
       "    </tr>\n",
       "  </tbody>\n",
       "</table>\n",
       "</div>"
      ],
      "text/plain": [
       "             patientid  appointmentid gender        scheduledday  \\\n",
       "99832  465943158731293        5775010      F 2016-06-06 08:58:13   \n",
       "\n",
       "      appointmentday  age neighbourhood  scholarship  hipertension  diabetes  \\\n",
       "99832     2016-06-06   -1         ROMÃO            0             0         0   \n",
       "\n",
       "       alcoholism  handcap  sms_received no_show  \n",
       "99832           0        0             0      No  "
      ]
     },
     "execution_count": 12,
     "metadata": {},
     "output_type": "execute_result"
    }
   ],
   "source": [
    "df[df['age'] < 0 ] #This patient has age as -1, which does not seems to be correct, This record has to be deleted"
   ]
  },
  {
   "cell_type": "code",
   "execution_count": 13,
   "metadata": {},
   "outputs": [
    {
     "data": {
      "text/plain": [
       "(110527, 14)"
      ]
     },
     "execution_count": 13,
     "metadata": {},
     "output_type": "execute_result"
    }
   ],
   "source": [
    "df.shape"
   ]
  },
  {
   "cell_type": "code",
   "execution_count": 14,
   "metadata": {},
   "outputs": [],
   "source": [
    "df = df[df['age'] >= 0 ] # Dropped row with age as -1"
   ]
  },
  {
   "cell_type": "code",
   "execution_count": 15,
   "metadata": {},
   "outputs": [
    {
     "data": {
      "text/plain": [
       "(110526, 14)"
      ]
     },
     "execution_count": 15,
     "metadata": {},
     "output_type": "execute_result"
    }
   ],
   "source": [
    "df.shape"
   ]
  },
  {
   "cell_type": "markdown",
   "metadata": {},
   "source": [
    "<a id='eda'></a>\n",
    "## Exploratory Data Analysis\n",
    "\n",
    "### Research Question 1 (Let's explore the data in Univariate)"
   ]
  },
  {
   "cell_type": "code",
   "execution_count": 16,
   "metadata": {},
   "outputs": [
    {
     "data": {
      "image/png": "[encoded data removed]",
      "text/plain": [
       "<Figure size 1080x1080 with 9 Axes>"
      ]
     },
     "metadata": {
      "needs_background": "light"
     },
     "output_type": "display_data"
    }
   ],
   "source": [
    "df.hist(figsize=(15,15));"
   ]
  },
  {
   "cell_type": "markdown",
   "metadata": {},
   "source": [
    "From the above charts we may analyse that:\n",
    "1) Age, Handicap, hypertension, scholership & sms-received is skewed to the right\n",
    "2) Most of the subject in the study are non alcoholic & non diabetic"
   ]
  },
  {
   "cell_type": "markdown",
   "metadata": {},
   "source": [
    "### Research Question 2  (What is the relationship between different variables and no_show)"
   ]
  },
  {
   "cell_type": "code",
   "execution_count": 17,
   "metadata": {},
   "outputs": [
    {
     "data": {
      "text/plain": [
       "array(['No', 'Yes'], dtype=object)"
      ]
     },
     "execution_count": 17,
     "metadata": {},
     "output_type": "execute_result"
    }
   ],
   "source": [
    "# Find unique values for no_show\n",
    "df.no_show.unique()"
   ]
  },
  {
   "cell_type": "markdown",
   "metadata": {},
   "source": [
    "Create 2 different datasets: \n",
    "1) Containg records where subject went at the appointment\n",
    "2) Containg records where subject did not go at the appointment"
   ]
  },
  {
   "cell_type": "code",
   "execution_count": 18,
   "metadata": {},
   "outputs": [],
   "source": [
    "# Create two datasets: \n",
    "#Dataset with subjects attending the appointment\n",
    "df_y = df.query('no_show == \"No\"')"
   ]
  },
  {
   "cell_type": "code",
   "execution_count": 19,
   "metadata": {},
   "outputs": [],
   "source": [
    "#Dataset with subjects not attending the appointment\n",
    "df_n = df.query('no_show == \"Yes\"')"
   ]
  },
  {
   "cell_type": "code",
   "execution_count": 20,
   "metadata": {},
   "outputs": [],
   "source": [
    "# Defining function percent, to be used multiple times in the analysis\n",
    "def percent(key,value):\n",
    "    return sum(df_y[key] == value)/sum(df[key] == value)*100"
   ]
  },
  {
   "cell_type": "markdown",
   "metadata": {},
   "source": [
    "# Question: How gender is affecting the appointment"
   ]
  },
  {
   "cell_type": "code",
   "execution_count": 21,
   "metadata": {},
   "outputs": [
    {
     "data": {
      "text/plain": [
       "array(['F', 'M'], dtype=object)"
      ]
     },
     "execution_count": 21,
     "metadata": {},
     "output_type": "execute_result"
    }
   ],
   "source": [
    "#Check different values of gender\n",
    "df.gender.unique()"
   ]
  },
  {
   "cell_type": "code",
   "execution_count": 22,
   "metadata": {},
   "outputs": [
    {
     "data": {
      "image/png": "[encoded data removed]",
      "text/plain": [
       "<Figure size 432x288 with 1 Axes>"
      ]
     },
     "metadata": {
      "needs_background": "light"
     },
     "output_type": "display_data"
    }
   ],
   "source": [
    "## How much female percentage and how much male percentage are attending the appointment\n",
    "female_attending_percent = percent('gender','F')\n",
    "male_attending_percent = percent('gender','M')\n",
    "\n",
    "plt.bar([\"Female\", \"Male\"], [female_attending_percent, male_attending_percent]);\n",
    "plt.title(\"Percentage of Female/Male subjects keeping the appointment\")\n",
    "plt.xlabel(\"Female/Male\")\n",
    "plt.ylabel(\"Pecentage\");"
   ]
  },
  {
   "cell_type": "markdown",
   "metadata": {},
   "source": [
    "79.68% of the female & 80.03% of male attended the appointment, which is almost the same. This means that gender is not making any difference."
   ]
  },
  {
   "cell_type": "markdown",
   "metadata": {},
   "source": [
    "# Question: How scholership is affecting the appointment"
   ]
  },
  {
   "cell_type": "code",
   "execution_count": 23,
   "metadata": {},
   "outputs": [
    {
     "data": {
      "text/plain": [
       "array([0, 1], dtype=int64)"
      ]
     },
     "execution_count": 23,
     "metadata": {},
     "output_type": "execute_result"
    }
   ],
   "source": [
    "#Check different values of scholership\n",
    "df.scholarship.unique()"
   ]
  },
  {
   "cell_type": "code",
   "execution_count": 24,
   "metadata": {},
   "outputs": [
    {
     "data": {
      "image/png": "[encoded data removed]",
      "text/plain": [
       "<Figure size 432x288 with 1 Axes>"
      ]
     },
     "metadata": {
      "needs_background": "light"
     },
     "output_type": "display_data"
    }
   ],
   "source": [
    "## How much Non Scholer percentage and how much Scholer percentage are attending the appointment\n",
    "\n",
    "non_scholer_attending_percent = percent('scholarship',0)\n",
    "scholer_attending_percent = percent('scholarship',1)\n",
    "\n",
    "plt.bar([\"Non Scholer\", \"Scholer\"], [non_scholer_attending_percent, scholer_attending_percent]);\n",
    "plt.title(\"Percentage of Non(Scholers) subjects keeping the appointment\")\n",
    "plt.xlabel(\"Non Scholer/Scholer\")\n",
    "plt.ylabel(\"Pecentage\");"
   ]
  },
  {
   "cell_type": "markdown",
   "metadata": {},
   "source": [
    "80.19% of non scholers and 76.26% of scholers are attending the appointment, which is almost the same. This means that scholership is not making much difference either.\n",
    "\n",
    "Note: The sample of scholers are very less compared to non-scholers. This makes the finding less relevent."
   ]
  },
  {
   "cell_type": "markdown",
   "metadata": {},
   "source": [
    "# Question: How hipertension is affecting the appointment"
   ]
  },
  {
   "cell_type": "code",
   "execution_count": 25,
   "metadata": {},
   "outputs": [
    {
     "data": {
      "text/plain": [
       "array([1, 0], dtype=int64)"
      ]
     },
     "execution_count": 25,
     "metadata": {},
     "output_type": "execute_result"
    }
   ],
   "source": [
    "#Check different values of hipertension\n",
    "df.hipertension.unique()"
   ]
  },
  {
   "cell_type": "code",
   "execution_count": 26,
   "metadata": {},
   "outputs": [
    {
     "data": {
      "image/png": "[encoded data removed]",
      "text/plain": [
       "<Figure size 432x288 with 1 Axes>"
      ]
     },
     "metadata": {
      "needs_background": "light"
     },
     "output_type": "display_data"
    }
   ],
   "source": [
    "## How much Non hipertension percentage and how much hipertension percentage are attending the appointment\n",
    "\n",
    "non_hipertension_attending_percent = percent('hipertension',0)\n",
    "hipertension_attending_percent = percent('hipertension',1)\n",
    "\n",
    "plt.bar([\"Non hipertension\", \"hipertension\"], [non_hipertension_attending_percent, hipertension_attending_percent]);\n",
    "plt.title(\"Percentage of Non(hipertension) subjects keeping the appointment\")\n",
    "plt.xlabel(\"Non hipertension/hipertension\")\n",
    "plt.ylabel(\"Pecentage\");"
   ]
  },
  {
   "cell_type": "markdown",
   "metadata": {},
   "source": [
    "79.09% of non hipertension subjects and 82.69% of hipertension subjects are attending the appointment, which is almost the same. This means that hypertension is not making much difference either."
   ]
  },
  {
   "cell_type": "markdown",
   "metadata": {},
   "source": [
    "# Question: How Diebetes is affecting the appointment"
   ]
  },
  {
   "cell_type": "code",
   "execution_count": 27,
   "metadata": {},
   "outputs": [
    {
     "data": {
      "text/plain": [
       "array([0, 1], dtype=int64)"
      ]
     },
     "execution_count": 27,
     "metadata": {},
     "output_type": "execute_result"
    }
   ],
   "source": [
    "#Check different values of diabetes\n",
    "df.diabetes.unique()"
   ]
  },
  {
   "cell_type": "code",
   "execution_count": 28,
   "metadata": {
    "scrolled": true
   },
   "outputs": [
    {
     "data": {
      "image/png": "[encoded data removed]",
      "text/plain": [
       "<Figure size 432x288 with 1 Axes>"
      ]
     },
     "metadata": {
      "needs_background": "light"
     },
     "output_type": "display_data"
    }
   ],
   "source": [
    "## How much Non hipertension percentage and how much hipertension percentage are attending the appointment\n",
    "\n",
    "non_diabetic_attending_percent = percent('diabetes',0)\n",
    "diabetic_attending_percent = percent('diabetes',1)\n",
    "\n",
    "plt.bar([\"Non diabetic\", \"diabetic\"], [non_diabetic_attending_percent, diabetic_attending_percent]);\n",
    "plt.title(\"Percentage of Non(diabetic) subjects keeping the appointment\")\n",
    "plt.xlabel(\"Non diabetic/diabetic\")\n",
    "plt.ylabel(\"Pecentage\");"
   ]
  },
  {
   "cell_type": "markdown",
   "metadata": {},
   "source": [
    "79.64% of non-diabetic and 82% of diabetic subjects are attending the appointment, which is almost the same. This means that \n",
    "diabetes is not making much difference either.\n",
    "\n",
    "Note: The sample of diabetic subjects are very less compared to non-diabetic. This makes the finding less relevent."
   ]
  },
  {
   "cell_type": "markdown",
   "metadata": {},
   "source": [
    "# Question: How Alcoholism is affecting the appointment"
   ]
  },
  {
   "cell_type": "code",
   "execution_count": 29,
   "metadata": {},
   "outputs": [
    {
     "data": {
      "text/plain": [
       "array([0, 1], dtype=int64)"
      ]
     },
     "execution_count": 29,
     "metadata": {},
     "output_type": "execute_result"
    }
   ],
   "source": [
    "#Check different values of alcoholism\n",
    "df.alcoholism.unique()"
   ]
  },
  {
   "cell_type": "code",
   "execution_count": 30,
   "metadata": {},
   "outputs": [
    {
     "data": {
      "image/png": "[encoded data removed]",
      "text/plain": [
       "<Figure size 432x288 with 1 Axes>"
      ]
     },
     "metadata": {
      "needs_background": "light"
     },
     "output_type": "display_data"
    }
   ],
   "source": [
    "## How much Non Alcoholic percentage and how much Alcoholic percentage are attending the appointment\n",
    "\n",
    "non_alcoholic_attending_percent = percent('alcoholism',0)\n",
    "alcoholic_attending_percent = percent('alcoholism',1)\n",
    "\n",
    "plt.bar([\"Non alcoholic\", \"alcoholic\"], [non_alcoholic_attending_percent, alcoholic_attending_percent]);\n",
    "plt.title(\"Percentage of Non(alcoholic) subjects keeping the appointment\")\n",
    "plt.xlabel(\"Non alcoholic/alcoholic\")\n",
    "plt.ylabel(\"Pecentage\");"
   ]
  },
  {
   "cell_type": "markdown",
   "metadata": {},
   "source": [
    "79.80% non-alcoholic and 79.85% of alcoholic subjects are attending the appointment, which is same. This means that alcoholism  \n",
    "is not making any difference."
   ]
  },
  {
   "cell_type": "markdown",
   "metadata": {},
   "source": [
    "# Question: How handicap is affecting the appointment"
   ]
  },
  {
   "cell_type": "code",
   "execution_count": 31,
   "metadata": {},
   "outputs": [
    {
     "data": {
      "text/plain": [
       "array([0, 1, 2, 3, 4], dtype=int64)"
      ]
     },
     "execution_count": 31,
     "metadata": {},
     "output_type": "execute_result"
    }
   ],
   "source": [
    "#Check different values of handcap\n",
    "df.handcap.unique()"
   ]
  },
  {
   "cell_type": "code",
   "execution_count": 32,
   "metadata": {},
   "outputs": [
    {
     "data": {
      "image/png": "[encoded data removed]",
      "text/plain": [
       "<Figure size 720x432 with 1 Axes>"
      ]
     },
     "metadata": {
      "needs_background": "light"
     },
     "output_type": "display_data"
    }
   ],
   "source": [
    "## How much Non handicap percentage and how much different handicap percentage are attending the appointment\n",
    "\n",
    "handicap_attending_percent = percent('handcap',0)\n",
    "handicap1_attending_percent = percent('handcap',1)\n",
    "handicap2_attending_percent = percent('handcap',2)\n",
    "handicap3_attending_percent = percent('handcap',3)\n",
    "handicap4_attending_percent = percent('handcap',4)\n",
    "\n",
    "plt.figure(figsize=(10,6)) \n",
    "plt.bar([\"Non Handicap\", \"Handicap Type 1\", \"Handicap Type 2\", \"Handicap Type 3\", \"Handicap Type 4\"],\n",
    "        [handicap_attending_percent, handicap1_attending_percent, handicap2_attending_percent, \n",
    "        handicap3_attending_percent, handicap4_attending_percent]);\n",
    "plt.title(\"% of (Non)Handicapped subjects keeping the appointment\")\n",
    "plt.xlabel(\"Non handicapped/handicapped\")\n",
    "plt.ylabel(\"Pecentage\");"
   ]
  },
  {
   "cell_type": "markdown",
   "metadata": {},
   "source": [
    "Below is the percentage of Hadicapped subjects:\n",
    "1) Non Handicapped: 79.76%\n",
    "2) Handicapped Type 1: 82.07%\n",
    "3) Handicapped Type 2: 79.78%\n",
    "4) Handicapped Type 3:  76.92%\n",
    "5) Handicapped Type 4:  66.66%\n",
    "This means that the handicapped type 1 subject are most probable to join the appointment and handicapped type 4 subject are least\n",
    "probable to join the appointment.\n",
    "\n",
    "Note: The sample of Handicapped Type 1, 2, 3 & 4 are very less compared to Non Handicapped subjects and this makes the finding \n",
    "    less relevent"
   ]
  },
  {
   "cell_type": "markdown",
   "metadata": {},
   "source": [
    "# Question: Is sending SMS affecting the appointment"
   ]
  },
  {
   "cell_type": "code",
   "execution_count": 33,
   "metadata": {},
   "outputs": [
    {
     "data": {
      "text/plain": [
       "array([0, 1], dtype=int64)"
      ]
     },
     "execution_count": 33,
     "metadata": {},
     "output_type": "execute_result"
    }
   ],
   "source": [
    "#Check different values of sms_received\n",
    "df.sms_received.unique()"
   ]
  },
  {
   "cell_type": "code",
   "execution_count": 34,
   "metadata": {},
   "outputs": [
    {
     "data": {
      "image/png": "[encoded data removed]",
      "text/plain": [
       "<Figure size 432x288 with 1 Axes>"
      ]
     },
     "metadata": {
      "needs_background": "light"
     },
     "output_type": "display_data"
    }
   ],
   "source": [
    "## How much Non SMSed percentage and how much SMSed percentage are attending the appointment\n",
    "\n",
    "nosms_attending_percent = percent('sms_received',0)\n",
    "sms_attending_percent = percent('sms_received',1)\n",
    "\n",
    "plt.bar([\"No SMS Received\", \"SMS Received\"], [nosms_attending_percent, sms_attending_percent]);\n",
    "plt.title(\"Percentage of Subjects keeping the appointment\")\n",
    "plt.xlabel(\"No SMS Received/SMS Received\")\n",
    "plt.ylabel(\"Pecentage\");"
   ]
  },
  {
   "cell_type": "markdown",
   "metadata": {},
   "source": [
    "83.29% of the subjects who did not receive the sms and 72.42% of the subjects who receive the sms attend the appoinment.\n",
    "Surprisingly reminder smses are making subjects less probable to attend the appointment."
   ]
  },
  {
   "cell_type": "markdown",
   "metadata": {},
   "source": [
    "# Question: Are different variables together affecting the appointment"
   ]
  },
  {
   "cell_type": "code",
   "execution_count": 35,
   "metadata": {},
   "outputs": [
    {
     "data": {
      "text/plain": [
       "('Probability for type 1 subjects (in %):', 87.62)"
      ]
     },
     "execution_count": 35,
     "metadata": {},
     "output_type": "execute_result"
    }
   ],
   "source": [
    "most_probability = len(df_y[(df_y['scholarship'] == 0) & (df_y['hipertension'] == 1) & (df_y['diabetes'] == 1) \n",
    "       & (df_y['sms_received'] == 0) & (df_y['handcap'] == 1)])/len(df[(df['scholarship'] == 0) & (df['hipertension'] == 1) \n",
    "       & (df['diabetes'] == 1) & (df['sms_received'] == 0) & (df['handcap'] == 1)])*100\n",
    "\n",
    "'Probability for type 1 subjects (in %):', round(most_probability,2)"
   ]
  },
  {
   "cell_type": "code",
   "execution_count": 38,
   "metadata": {},
   "outputs": [
    {
     "data": {
      "text/plain": [
       "('Probability for type 2 subjects (in %):', 54.17)"
      ]
     },
     "execution_count": 38,
     "metadata": {},
     "output_type": "execute_result"
    }
   ],
   "source": [
    "least_probability = len(df_y[(df_y['scholarship'] == 1) & (df_y['hipertension'] == 0) & (df_y['diabetes'] == 0) \n",
    "       & (df_y['sms_received'] == 1) & (df_y['handcap'] == 1)])/len(df[(df['scholarship'] == 1) & (df['hipertension'] == 0) \n",
    "       & (df['diabetes'] == 0) & (df['sms_received'] == 1) & (df['handcap'] == 1)])*100\n",
    "\n",
    "'Probability for type 2 subjects (in %):', round(least_probability,2)"
   ]
  },
  {
   "cell_type": "code",
   "execution_count": 37,
   "metadata": {},
   "outputs": [
    {
     "data": {
      "image/png": "[encoded data removed]",
      "text/plain": [
       "<Figure size 576x432 with 1 Axes>"
      ]
     },
     "metadata": {
      "needs_background": "light"
     },
     "output_type": "display_data"
    }
   ],
   "source": [
    "plt.figure(figsize=(8,6)) \n",
    "plt.bar([\"Subjects Type 1 keeping the appointment\", \"Subjects Type 2 keeping the appointment\"], \n",
    "        [most_probability, least_probability]);\n",
    "plt.title(\"% of Subjects keeping the appointment\")\n",
    "plt.ylabel(\"Pecentage\");"
   ]
  },
  {
   "cell_type": "markdown",
   "metadata": {},
   "source": [
    "From the above anlysis we can analyze that:\n",
    "1) Non scholer subjects, having hipertension, diabetes, handicap type 4 and ones who did not receive the SMS are more probable to attend the appointment\n",
    "2) Scholer subjects, having no hipertension, no diabetes, handicap type 1 and ones who did receive the SMS are least probable to attend the appointment"
   ]
  },
  {
   "cell_type": "markdown",
   "metadata": {},
   "source": [
    "<a id='conclusions'></a>\n",
    "## Conclusions\n",
    "\n",
    "> The data does not provide much information. There does not seems to be any correlation between No-Show and much of the varibles. Neverthless I was able to draw below coclusions with help of multiple variable:\n",
    "\n",
    "1) Non scholer subjects, having hipertension, diabetes, handicap type 4 and ones who did not receive the SMS had the highest probabilty to attend the appointment i.e, 87.6%\n",
    "\n",
    "2) Scholer subjects, having no hipertension, no diabetes, handicap type 1 and ones who did receive the SMS had the lowest probabilty to attend the appointment i.e, 54.16%\n",
    "\n",
    "> Limitations: \n",
    "\n",
    "1) The data is skewed to the right and this makes it very difficult to capture the trend. Many of the variables have very less sample for alternate cases. Had the data been more symmetric, it would have been easier to get the trend."
   ]
  }
 ],
 "metadata": {
  "kernelspec": {
   "display_name": "Python 3",
   "language": "python",
   "name": "python3"
  },
  "language_info": {
   "codemirror_mode": {
    "name": "ipython",
    "version": 3
   },
   "file_extension": ".py",
   "mimetype": "text/x-python",
   "name": "python",
   "nbconvert_exporter": "python",
   "pygments_lexer": "ipython3",
   "version": "3.7.0"
  }
 },
 "nbformat": 4,
 "nbformat_minor": 2
}
